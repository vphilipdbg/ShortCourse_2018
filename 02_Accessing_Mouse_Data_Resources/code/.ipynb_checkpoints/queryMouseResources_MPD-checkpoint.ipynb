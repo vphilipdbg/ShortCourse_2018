{
 "cells": [
  {
   "cell_type": "markdown",
   "metadata": {},
   "source": [
    "# Accessing strain survey data using MPD\n",
    "\n",
    "In this example we will programmatically retrieve a measure record from MPD. The measure we are working with here reflects total locomotor activity 3h post cocaine injection over a test period of 4 hours. This measure has an MPD measure ID of 40708 and is named activ_cocaine2_3. A total of 15 strains were assayed across both sexs with an average n of 8 mice per sex per strain. \n",
    "\n",
    "We will first retrieve individual animal values for this measure."
   ]
  },
  {
   "cell_type": "code",
   "execution_count": 10,
   "metadata": {},
   "outputs": [
    {
     "ename": "NameError",
     "evalue": "name 'log' is not defined",
     "output_type": "error",
     "traceback": [
      "\u001b[0;31m---------------------------------------------------------------------------\u001b[0m",
      "\u001b[0;31mNameError\u001b[0m                                 Traceback (most recent call last)",
      "\u001b[0;32m<ipython-input-10-3eb99562ebaa>\u001b[0m in \u001b[0;36m<module>\u001b[0;34m()\u001b[0m\n\u001b[1;32m      8\u001b[0m \u001b[0;31m#print (animaldata)\u001b[0m\u001b[0;34m\u001b[0m\u001b[0;34m\u001b[0m\u001b[0m\n\u001b[1;32m      9\u001b[0m \u001b[0;34m\u001b[0m\u001b[0m\n\u001b[0;32m---> 10\u001b[0;31m \u001b[0mfig\u001b[0m \u001b[0;34m=\u001b[0m \u001b[0minteraction_plot\u001b[0m\u001b[0;34m(\u001b[0m\u001b[0manimaldata\u001b[0m\u001b[0;34m.\u001b[0m\u001b[0msex\u001b[0m\u001b[0;34m,\u001b[0m \u001b[0manimaldata\u001b[0m\u001b[0;34m.\u001b[0m\u001b[0mstrain\u001b[0m\u001b[0;34m,\u001b[0m \u001b[0mlog\u001b[0m\u001b[0;34m(\u001b[0m\u001b[0manimaldata\u001b[0m\u001b[0;34m.\u001b[0m\u001b[0mvalue\u001b[0m\u001b[0;34m)\u001b[0m\u001b[0;34m)\u001b[0m\u001b[0;34m\u001b[0m\u001b[0m\n\u001b[0m\u001b[1;32m     11\u001b[0m \u001b[0;34m\u001b[0m\u001b[0m\n\u001b[1;32m     12\u001b[0m \u001b[0;34m\u001b[0m\u001b[0m\n",
      "\u001b[0;31mNameError\u001b[0m: name 'log' is not defined"
     ]
    }
   ],
   "source": [
    "import requests\n",
    "import json\n",
    "from pandas.io.json import json_normalize\n",
    "\n",
    "resp = requests.get(\"https://phenome.jax.org/api/pheno/animalvals/40708\") \n",
    "data = json.loads(resp.text)\n",
    "animaldata = json_normalize(data['animaldata'])\n",
    "print (animaldata)\n",
    "\n",
    "#fig = interaction_plot(animaldata.sex, animaldata.strain, animaldata.value)\n",
    "\n",
    "\n",
    "#with open(\"queryMPD_SingleMeasure.tsv\", 'w') as fl:    \n",
    "#    fl.writelines(resp.text)"
   ]
  },
  {
   "cell_type": "markdown",
   "metadata": {},
   "source": [
    "# Assess strain x sex effects\n",
    "\n",
    "Now let us fit a linear model that assesses the main effects of strain and sex in addition to strain by sex effects\n"
   ]
  },
  {
   "cell_type": "code",
   "execution_count": 2,
   "metadata": {},
   "outputs": [
    {
     "name": "stdout",
     "output_type": "stream",
     "text": [
      "                     df        sum_sq       mean_sq          F        PR(>F)\n",
      "C(sex)              1.0  2.931693e+07  2.931693e+07   8.435830  4.088519e-03\n",
      "C(strain)          14.0  1.172687e+09  8.376333e+07  24.102563  9.216382e-36\n",
      "C(strain):C(sex)   14.0  1.231190e+08  8.794214e+06   2.530500  2.365076e-03\n",
      "Residual          202.0  7.020080e+08  3.475287e+06        NaN           NaN\n"
     ]
    }
   ],
   "source": [
    "from statsmodels.formula.api import ols\n",
    "from statsmodels.stats.anova import anova_lm\n",
    "from statsmodels.graphics.factorplots import interaction_plot\n",
    "\n",
    "formula = 'value ~ C(sex) + C(strain) + C(strain):C(sex)'\n",
    "model = ols(formula, animaldata).fit()\n",
    "aov_table = anova_lm(model)\n",
    "\n",
    "print(aov_table)\n"
   ]
  },
  {
   "cell_type": "markdown",
   "metadata": {},
   "source": [
    "# Estimating heritability\n",
    "\n",
    "Quite simply, heritability is defined as the ratio of genotypic and phenotypic variance. Therefore to estimate heritability we will need to obtain the between subject variance (genetic variance) along with the within subject variance (error variance) and interaction variance contained in the strain:sex term."
   ]
  },
  {
   "cell_type": "code",
   "execution_count": 3,
   "metadata": {},
   "outputs": [
    {
     "name": "stdout",
     "output_type": "stream",
     "text": [
      "heritability for this measure is :  0.35\n"
     ]
    }
   ],
   "source": [
    "msb = aov_table.mean_sq[1] #between subject variance\n",
    "mse = aov_table.mean_sq[3] #within subject variance\n",
    "msi = aov_table.mean_sq[2] #interaction variance\n",
    "s = 2\n",
    "n = 8\n",
    "\n",
    "h2 = round((msb-msi)/(s*(msb+(n-1)*mse)),2)\n",
    "\n",
    "print(\"heritability for this measure is : \", h2)\n"
   ]
  },
  {
   "cell_type": "code",
   "execution_count": null,
   "metadata": {},
   "outputs": [],
   "source": []
  }
 ],
 "metadata": {
  "kernelspec": {
   "display_name": "Python 3",
   "language": "python",
   "name": "python3"
  },
  "language_info": {
   "codemirror_mode": {
    "name": "ipython",
    "version": 3
   },
   "file_extension": ".py",
   "mimetype": "text/x-python",
   "name": "python",
   "nbconvert_exporter": "python",
   "pygments_lexer": "ipython3",
   "version": "3.6.5"
  }
 },
 "nbformat": 4,
 "nbformat_minor": 2
}
