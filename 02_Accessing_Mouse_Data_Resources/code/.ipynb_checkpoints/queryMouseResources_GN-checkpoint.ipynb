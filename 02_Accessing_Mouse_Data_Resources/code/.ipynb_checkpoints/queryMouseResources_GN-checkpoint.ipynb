{
 "cells": [
  {
   "cell_type": "markdown",
   "metadata": {},
   "source": [
    "**This notebook/tutorial shows how one can query MouseMine and GeneNetwork to retrieve data programmatically**  \n",
    "\n",
    "# Using GeneNetwork to retrieve a phenotype\n",
    "\n",
    "***import requests*** : imports the Python library that contains the necessary functions to query a web resource.\n",
    "\n",
    "***resp = requests.get(\"url\")*** : Runs the query and gets results back. Here, we will make use of GeneNetwork.org's programmable API to retrieve trait data for a single trait collected in the BXD RI lines.\n",
    "\n",
    "***print()*** : The results are contained in the resp variable and stored in the \"text\" attribute.\n",
    "\n",
    "***with open(\"filename\", 'w') as fl**: Writes the contents to a file. Here the file is named \"queryGeneNetwork_SingleTrait.tsv\"\n",
    "\n",
    "***fl.writelines(resp.text)*** : The function that write the contents of resp.text to the file."
   ]
  },
  {
   "cell_type": "code",
   "execution_count": null,
   "metadata": {},
   "outputs": [],
   "source": [
    "import requests\n",
    "resp = requests.get(\"http://robot.genenetwork.org/webqtl/main.py?cmd=trait&probeset=18495&db=BXDPublish&format=col\") \n",
    "print (resp.text)\n",
    "\n",
    "with open(\"queryGeneNetwork_SingleTrait.tsv\", 'w') as fl:    \n",
    "    fl.writelines(resp.text)\n"
   ]
  },
  {
   "cell_type": "markdown",
   "metadata": {},
   "source": [
    "# Using GeneNetwork to retrieve a phenotype\n",
    "\n",
    "***import requests***  : imports the Python library that contains the necessary functions to query a web resource.\n",
    "\n",
    "***resp = requests.get(\"url\")*** : Runs the query and gets results back. Here, we will make use of GeneNetwork.org's programmable API to retrieve gene expression for Syn1 (gene=Syn1) in the hippocampus (tissue=hip) collected in the BXD RI lines.\n",
    "\n",
    "***print()***  : The results are contained in the resp variable and stored in the \"text\" attribute.\n",
    "\n",
    "***with open(\"filename\", 'w') as fl**: Writes the contents to a file. Here the file is named \"queryGeneNetwork_SingleGene_Tissue.tsv\"\n",
    "\n",
    "***fl.writelines(resp.text)*** : The function that write the contents of resp.text to the file."
   ]
  },
  {
   "cell_type": "code",
   "execution_count": null,
   "metadata": {},
   "outputs": [],
   "source": [
    "import requests\n",
    "geneData = requests.get(\"http://www.genenetwork.org/webqtl/main.py?cmd=sch&gene=Syn1&tissue=hip&format=text\") \n",
    "print (geneData.text)\n",
    "\n",
    "with open(\"queryGeneNetwork_SingleGene_Tissue.tsv\", 'w') as fl:    \n",
    "    fl.writelines(geneData.text)\n"
   ]
  }
 ],
 "metadata": {
  "kernelspec": {
   "display_name": "Python 3",
   "language": "python",
   "name": "python3"
  },
  "language_info": {
   "codemirror_mode": {
    "name": "ipython",
    "version": 3
   },
   "file_extension": ".py",
   "mimetype": "text/x-python",
   "name": "python",
   "nbconvert_exporter": "python",
   "pygments_lexer": "ipython3",
   "version": "3.6.5"
  }
 },
 "nbformat": 4,
 "nbformat_minor": 2
}
